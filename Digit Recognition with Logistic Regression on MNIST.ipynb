{
 "cells": [
  {
   "cell_type": "code",
   "execution_count": 96,
   "metadata": {},
   "outputs": [
    {
     "name": "stdout",
     "output_type": "stream",
     "text": [
      "Collecting numpy\n",
      "  Using cached https://files.pythonhosted.org/packages/45/b2/6c7545bb7a38754d63048c7696804a0d947328125d81bf12beaa692c3ae3/numpy-1.19.5-cp36-cp36m-manylinux1_x86_64.whl\n",
      "Collecting matplotlib\n",
      "  Using cached https://files.pythonhosted.org/packages/d2/43/2bd63467490036697e7be71444fafc7b236923d614d4521979a200c6b559/matplotlib-3.3.3-cp36-cp36m-manylinux1_x86_64.whl\n",
      "Collecting torch==1.7.0+cpu\n",
      "  Using cached https://download.pytorch.org/whl/cpu/torch-1.7.0%2Bcpu-cp36-cp36m-linux_x86_64.whl\n",
      "Collecting torchvision==0.8.1+cpu\n",
      "  Using cached https://download.pytorch.org/whl/cpu/torchvision-0.8.1%2Bcpu-cp36-cp36m-linux_x86_64.whl\n",
      "Collecting torchaudio==0.7.0\n",
      "  Using cached https://files.pythonhosted.org/packages/3f/23/6b54106b3de029d3f10cf8debc302491c17630357449c900d6209665b302/torchaudio-0.7.0-cp36-cp36m-manylinux1_x86_64.whl\n",
      "Collecting cycler>=0.10 (from matplotlib)\n",
      "  Using cached https://files.pythonhosted.org/packages/f7/d2/e07d3ebb2bd7af696440ce7e754c59dd546ffe1bbe732c8ab68b9c834e61/cycler-0.10.0-py2.py3-none-any.whl\n",
      "Collecting pillow>=6.2.0 (from matplotlib)\n",
      "  Using cached https://files.pythonhosted.org/packages/b6/c0/442d9d87e0da00bf856ef6dd4916f84a2d710b5f1a367d42d7f3c4e99a6c/Pillow-8.1.0-cp36-cp36m-manylinux1_x86_64.whl\n",
      "Collecting pyparsing!=2.0.4,!=2.1.2,!=2.1.6,>=2.0.3 (from matplotlib)\n",
      "  Using cached https://files.pythonhosted.org/packages/8a/bb/488841f56197b13700afd5658fc279a2025a39e22449b7cf29864669b15d/pyparsing-2.4.7-py2.py3-none-any.whl\n",
      "Collecting python-dateutil>=2.1 (from matplotlib)\n",
      "  Using cached https://files.pythonhosted.org/packages/d4/70/d60450c3dd48ef87586924207ae8907090de0b306af2bce5d134d78615cb/python_dateutil-2.8.1-py2.py3-none-any.whl\n",
      "Collecting kiwisolver>=1.0.1 (from matplotlib)\n",
      "  Using cached https://files.pythonhosted.org/packages/a7/1b/cbd8ae738719b5f41592a12057ef5442e2ed5f5cb5451f8fc7e9f8875a1a/kiwisolver-1.3.1-cp36-cp36m-manylinux1_x86_64.whl\n",
      "Collecting dataclasses (from torch==1.7.0+cpu)\n",
      "  Using cached https://files.pythonhosted.org/packages/fe/ca/75fac5856ab5cfa51bbbcefa250182e50441074fdc3f803f6e76451fab43/dataclasses-0.8-py3-none-any.whl\n",
      "Collecting future (from torch==1.7.0+cpu)\n",
      "Collecting typing-extensions (from torch==1.7.0+cpu)\n",
      "  Using cached https://files.pythonhosted.org/packages/60/7a/e881b5abb54db0e6e671ab088d079c57ce54e8a01a3ca443f561ccadb37e/typing_extensions-3.7.4.3-py3-none-any.whl\n",
      "Collecting six (from cycler>=0.10->matplotlib)\n",
      "  Using cached https://files.pythonhosted.org/packages/ee/ff/48bde5c0f013094d729fe4b0316ba2a24774b3ff1c52d924a8a4cb04078a/six-1.15.0-py2.py3-none-any.whl\n",
      "Installing collected packages: numpy, six, cycler, pillow, pyparsing, python-dateutil, kiwisolver, matplotlib, dataclasses, future, typing-extensions, torch, torchvision, torchaudio\n",
      "Successfully installed cycler-0.10.0 dataclasses-0.8 future-0.18.2 kiwisolver-1.3.1 matplotlib-3.3.3 numpy-1.19.5 pillow-8.1.0 pyparsing-2.4.7 python-dateutil-2.8.1 six-1.15.0 torch-1.7.0+cpu torchaudio-0.7.0 torchvision-0.8.1+cpu typing-extensions-3.7.4.3\n"
     ]
    }
   ],
   "source": [
    "!pip3 install numpy matplotlib torch==1.7.0+cpu torchvision==0.8.1+cpu torchaudio==0.7.0 -f https://download.pytorch.org/whl/torch_stable.html"
   ]
  },
  {
   "cell_type": "code",
   "execution_count": 2,
   "metadata": {},
   "outputs": [],
   "source": [
    "import torch\n",
    "import torchvision\n",
    "from torchvision.datasets import MNIST"
   ]
  },
  {
   "cell_type": "code",
   "execution_count": 5,
   "metadata": {},
   "outputs": [],
   "source": [
    "dataset=MNIST(root='data/', download=True)"
   ]
  },
  {
   "cell_type": "code",
   "execution_count": null,
   "metadata": {},
   "outputs": [],
   "source": [
    "len(dataset) #60000"
   ]
  },
  {
   "cell_type": "code",
   "execution_count": 7,
   "metadata": {},
   "outputs": [
    {
     "data": {
      "text/plain": [
       "10000"
      ]
     },
     "execution_count": 7,
     "metadata": {},
     "output_type": "execute_result"
    }
   ],
   "source": [
    "test_dataset = MNIST(root='data/', train=False)\n",
    "len(test_dataset)"
   ]
  },
  {
   "cell_type": "code",
   "execution_count": 8,
   "metadata": {},
   "outputs": [
    {
     "data": {
      "text/plain": [
       "(<PIL.Image.Image image mode=L size=28x28 at 0x7F12A89BA0F0>, 5)"
      ]
     },
     "execution_count": 8,
     "metadata": {},
     "output_type": "execute_result"
    }
   ],
   "source": [
    "dataset[0]"
   ]
  },
  {
   "cell_type": "code",
   "execution_count": 9,
   "metadata": {},
   "outputs": [],
   "source": [
    "import matplotlib.pyplot as plt\n",
    "%matplotlib inline"
   ]
  },
  {
   "cell_type": "code",
   "execution_count": 13,
   "metadata": {},
   "outputs": [
    {
     "name": "stdout",
     "output_type": "stream",
     "text": [
      "Label: 5\n"
     ]
    },
    {
     "data": {
      "image/png": "[encoded data removed]",
      "text/plain": [
       "<Figure size 432x288 with 1 Axes>"
      ]
     },
     "metadata": {
      "needs_background": "light"
     },
     "output_type": "display_data"
    }
   ],
   "source": [
    "image, label = dataset[0]\n",
    "plt.imshow(image, cmap='gray')\n",
    "print('Label:', label)"
   ]
  },
  {
   "cell_type": "code",
   "execution_count": 14,
   "metadata": {},
   "outputs": [
    {
     "name": "stdout",
     "output_type": "stream",
     "text": [
      "Label: 2\n"
     ]
    },
    {
     "data": {
      "image/png": "[encoded data removed]",
      "text/plain": [
       "<Figure size 432x288 with 1 Axes>"
      ]
     },
     "metadata": {
      "needs_background": "light"
     },
     "output_type": "display_data"
    }
   ],
   "source": [
    "image, label = dataset[5]\n",
    "plt.imshow(image, cmap='gray')\n",
    "print('Label:', label)"
   ]
  },
  {
   "cell_type": "code",
   "execution_count": 15,
   "metadata": {},
   "outputs": [],
   "source": [
    "import torchvision.transforms as transforms"
   ]
  },
  {
   "cell_type": "code",
   "execution_count": 16,
   "metadata": {},
   "outputs": [],
   "source": [
    "dataset=MNIST(root='data/', train=True, transform=transforms.ToTensor())"
   ]
  },
  {
   "cell_type": "code",
   "execution_count": 17,
   "metadata": {},
   "outputs": [
    {
     "data": {
      "text/plain": [
       "torch.Size([1, 28, 28])"
      ]
     },
     "execution_count": 17,
     "metadata": {},
     "output_type": "execute_result"
    }
   ],
   "source": [
    "dataset[0][0].shape"
   ]
  },
  {
   "cell_type": "code",
   "execution_count": 18,
   "metadata": {},
   "outputs": [
    {
     "data": {
      "text/plain": [
       "(50000, 10000)"
      ]
     },
     "execution_count": 18,
     "metadata": {},
     "output_type": "execute_result"
    }
   ],
   "source": [
    "from torch.utils.data import random_split\n",
    "train_ds, val_ds = random_split(dataset, [50000, 10000])\n",
    "len(train_ds), len(val_ds)"
   ]
  },
  {
   "cell_type": "code",
   "execution_count": 19,
   "metadata": {},
   "outputs": [],
   "source": [
    "from torch.utils.data import DataLoader\n",
    "batch_size = 128\n",
    "\n",
    "train_loader = DataLoader(train_ds, batch_size, shuffle=True)\n",
    "val_loader = DataLoader(val_ds, batch_size)"
   ]
  },
  {
   "cell_type": "code",
   "execution_count": null,
   "metadata": {},
   "outputs": [],
   "source": []
  },
  {
   "cell_type": "code",
   "execution_count": 20,
   "metadata": {},
   "outputs": [],
   "source": [
    "import torch.nn as nn\n",
    "input_size = 28*28\n",
    "class_count = 10\n",
    "model = nn.Linear(input_size, class_count)"
   ]
  },
  {
   "cell_type": "code",
   "execution_count": 23,
   "metadata": {},
   "outputs": [
    {
     "name": "stdout",
     "output_type": "stream",
     "text": [
      "torch.Size([10, 784])\n",
      "torch.Size([10])\n"
     ]
    }
   ],
   "source": [
    "print(model.weight.shape)\n",
    "print(model.bias.shape)"
   ]
  },
  {
   "cell_type": "code",
   "execution_count": 25,
   "metadata": {},
   "outputs": [
    {
     "data": {
      "text/plain": [
       "torch.Size([128, 1, 28, 28])"
      ]
     },
     "execution_count": 25,
     "metadata": {},
     "output_type": "execute_result"
    }
   ],
   "source": [
    "images.shape"
   ]
  },
  {
   "cell_type": "code",
   "execution_count": 27,
   "metadata": {},
   "outputs": [
    {
     "data": {
      "text/plain": [
       "tensor([[0., 0., 0.,  ..., 0., 0., 0.],\n",
       "        [0., 0., 0.,  ..., 0., 0., 0.],\n",
       "        [0., 0., 0.,  ..., 0., 0., 0.],\n",
       "        ...,\n",
       "        [0., 0., 0.,  ..., 0., 0., 0.],\n",
       "        [0., 0., 0.,  ..., 0., 0., 0.],\n",
       "        [0., 0., 0.,  ..., 0., 0., 0.]])"
      ]
     },
     "execution_count": 27,
     "metadata": {},
     "output_type": "execute_result"
    }
   ],
   "source": [
    "images.reshape(128, 784)"
   ]
  },
  {
   "cell_type": "code",
   "execution_count": 26,
   "metadata": {},
   "outputs": [
    {
     "name": "stdout",
     "output_type": "stream",
     "text": [
      "tensor([1, 6, 8, 5, 7, 4, 2, 0, 3, 2, 6, 6, 3, 9, 0, 4, 8, 6, 4, 7, 3, 4, 3, 9,\n",
      "        6, 4, 6, 1, 9, 2, 8, 3, 6, 2, 0, 0, 4, 1, 5, 7, 8, 8, 4, 0, 2, 9, 2, 1,\n",
      "        2, 0, 9, 7, 7, 5, 1, 4, 0, 6, 9, 9, 6, 7, 9, 5, 9, 8, 7, 3, 4, 6, 1, 0,\n",
      "        2, 3, 8, 3, 9, 3, 0, 3, 4, 9, 0, 7, 1, 3, 8, 3, 8, 9, 0, 5, 4, 1, 5, 3,\n",
      "        0, 2, 9, 5, 4, 8, 1, 9, 7, 4, 8, 8, 5, 1, 0, 6, 3, 6, 5, 9, 9, 8, 5, 3,\n",
      "        6, 1, 5, 7, 3, 2, 1, 3])\n",
      "torch.Size([128, 1, 28, 28])\n"
     ]
    }
   ],
   "source": [
    "for images, labels in train_loader:\n",
    "    print(labels)\n",
    "    print(images.shape)\n",
    "#     out=model(images)\n",
    "#     print(out)\n",
    "    break"
   ]
  },
  {
   "cell_type": "code",
   "execution_count": 28,
   "metadata": {},
   "outputs": [],
   "source": [
    "class MnistModel(nn.Module):\n",
    "    def __init__(self):\n",
    "        super().__init__()\n",
    "        self.linear=nn.Linear(input_size, class_count)\n",
    "        \n",
    "    def forward(self, xb):\n",
    "        xb=xb.reshape(-1, 784)\n",
    "        out=self.linear(xb)\n",
    "        return out"
   ]
  },
  {
   "cell_type": "code",
   "execution_count": 29,
   "metadata": {},
   "outputs": [],
   "source": [
    "model=MnistModel()"
   ]
  },
  {
   "cell_type": "code",
   "execution_count": 30,
   "metadata": {},
   "outputs": [
    {
     "data": {
      "text/plain": [
       "Linear(in_features=784, out_features=10, bias=True)"
      ]
     },
     "execution_count": 30,
     "metadata": {},
     "output_type": "execute_result"
    }
   ],
   "source": [
    "model.linear"
   ]
  },
  {
   "cell_type": "code",
   "execution_count": 31,
   "metadata": {},
   "outputs": [
    {
     "name": "stdout",
     "output_type": "stream",
     "text": [
      "torch.Size([10, 784])\n",
      "torch.Size([10])\n"
     ]
    }
   ],
   "source": [
    "print(model.linear.weight.shape)\n",
    "print(model.linear.bias.shape)"
   ]
  },
  {
   "cell_type": "code",
   "execution_count": 34,
   "metadata": {},
   "outputs": [
    {
     "data": {
      "text/plain": [
       "[Parameter containing:\n",
       " tensor([[ 0.0269, -0.0128,  0.0062,  ..., -0.0162, -0.0061,  0.0188],\n",
       "         [ 0.0045, -0.0048,  0.0171,  ..., -0.0036,  0.0124,  0.0135],\n",
       "         [-0.0057,  0.0114, -0.0313,  ..., -0.0024,  0.0108, -0.0072],\n",
       "         ...,\n",
       "         [-0.0136,  0.0148, -0.0010,  ...,  0.0281, -0.0174,  0.0184],\n",
       "         [-0.0190, -0.0178, -0.0173,  ...,  0.0039, -0.0032,  0.0085],\n",
       "         [-0.0096,  0.0132,  0.0341,  ...,  0.0239,  0.0144,  0.0193]],\n",
       "        requires_grad=True),\n",
       " Parameter containing:\n",
       " tensor([-0.0195,  0.0229, -0.0245,  0.0223, -0.0108,  0.0047, -0.0019,  0.0346,\n",
       "          0.0320,  0.0153], requires_grad=True)]"
      ]
     },
     "execution_count": 34,
     "metadata": {},
     "output_type": "execute_result"
    }
   ],
   "source": [
    "list(model.parameters())"
   ]
  },
  {
   "cell_type": "code",
   "execution_count": 36,
   "metadata": {},
   "outputs": [
    {
     "name": "stdout",
     "output_type": "stream",
     "text": [
      "torch.Size([128, 1, 28, 28])\n",
      "torch.Size([128, 10])\n",
      "tensor([[ 0.4222,  0.2077, -0.5613,  0.0477, -0.1330, -0.1189, -0.0196,  0.2977,\n",
      "          0.4918, -0.0134]])\n"
     ]
    }
   ],
   "source": [
    "for images, labels in train_loader:\n",
    "    print(images.shape)\n",
    "    out=model(images)\n",
    "    break\n",
    "    \n",
    "print(out.shape)\n",
    "print(out[:1].data)"
   ]
  },
  {
   "cell_type": "code",
   "execution_count": 37,
   "metadata": {},
   "outputs": [],
   "source": [
    "import torch.nn.functional as F"
   ]
  },
  {
   "cell_type": "code",
   "execution_count": 42,
   "metadata": {},
   "outputs": [
    {
     "name": "stdout",
     "output_type": "stream",
     "text": [
      "tensor([[0.1376, 0.1110, 0.0514, 0.0946, 0.0790, 0.0801, 0.0884, 0.1215, 0.1475,\n",
      "         0.0890]], grad_fn=<SliceBackward>)\n"
     ]
    },
    {
     "data": {
      "text/plain": [
       "tensor(1.0000, grad_fn=<SumBackward0>)"
      ]
     },
     "execution_count": 42,
     "metadata": {},
     "output_type": "execute_result"
    }
   ],
   "source": [
    "probs=F.softmax(out, dim=1)\n",
    "\n",
    "print(probs[:1])\n",
    "\n",
    "torch.sum(probs[0])"
   ]
  },
  {
   "cell_type": "code",
   "execution_count": 45,
   "metadata": {},
   "outputs": [
    {
     "data": {
      "text/plain": [
       "(tensor([8, 0, 3, 3, 5, 8, 6, 7, 0, 6, 7, 6, 0, 8, 8, 7, 7, 6, 7, 0, 9, 9, 0, 0,\n",
       "         8, 0, 7, 7, 0, 0, 7, 0, 0, 7, 0, 7, 0, 6, 8, 0, 0, 3, 0, 5, 8, 8, 0, 0,\n",
       "         0, 0, 0, 0, 0, 7, 0, 0, 0, 0, 0, 0, 0, 6, 8, 8, 7, 0, 0, 5, 8, 0, 0, 0,\n",
       "         9, 0, 0, 0, 0, 0, 0, 0, 0, 8, 8, 8, 0, 0, 0, 0, 0, 9, 0, 0, 0, 7, 6, 8,\n",
       "         7, 0, 0, 0, 0, 0, 0, 6, 7, 0, 7, 0, 8, 0, 0, 0, 0, 0, 7, 7, 0, 7, 6, 8,\n",
       "         0, 0, 0, 0, 7, 0, 4, 0]),\n",
       " tensor([0.1475, 0.1605, 0.1385, 0.1424, 0.1213, 0.1273, 0.1145, 0.1241, 0.1213,\n",
       "         0.1240, 0.1579, 0.1265, 0.1394, 0.1254, 0.1361, 0.1469, 0.1558, 0.1412,\n",
       "         0.1268, 0.1333, 0.1141, 0.1120, 0.1722, 0.1195, 0.1406, 0.1471, 0.1323,\n",
       "         0.1229, 0.1335, 0.1272, 0.1302, 0.1214, 0.1610, 0.1353, 0.1547, 0.1467,\n",
       "         0.1606, 0.1462, 0.1626, 0.1473, 0.1277, 0.1211, 0.1511, 0.1378, 0.1342,\n",
       "         0.1171, 0.1321, 0.1621, 0.1429, 0.1253, 0.1265, 0.1527, 0.1328, 0.1496,\n",
       "         0.1440, 0.1329, 0.1286, 0.1879, 0.1426, 0.1372, 0.1555, 0.1285, 0.1184,\n",
       "         0.1399, 0.1177, 0.1351, 0.1162, 0.1279, 0.1207, 0.1257, 0.1273, 0.1816,\n",
       "         0.1310, 0.1348, 0.1390, 0.1300, 0.1426, 0.1265, 0.1277, 0.1494, 0.1400,\n",
       "         0.1393, 0.1234, 0.1192, 0.1547, 0.1590, 0.1537, 0.1272, 0.1274, 0.1222,\n",
       "         0.1290, 0.1266, 0.1225, 0.1504, 0.1257, 0.1309, 0.1253, 0.1359, 0.1195,\n",
       "         0.1199, 0.1391, 0.1276, 0.1486, 0.1343, 0.1377, 0.1218, 0.1196, 0.1378,\n",
       "         0.1375, 0.1259, 0.1372, 0.1388, 0.1469, 0.1324, 0.1337, 0.1670, 0.1509,\n",
       "         0.1250, 0.1459, 0.1181, 0.1487, 0.1368, 0.1512, 0.1225, 0.1819, 0.1289,\n",
       "         0.1174, 0.1502], grad_fn=<MaxBackward0>))"
      ]
     },
     "execution_count": 45,
     "metadata": {},
     "output_type": "execute_result"
    }
   ],
   "source": [
    "max_probs, preds=torch.max(probs, dim=1)\n",
    "preds, max_probs"
   ]
  },
  {
   "cell_type": "code",
   "execution_count": 47,
   "metadata": {},
   "outputs": [
    {
     "data": {
      "text/plain": [
       "tensor(10)"
      ]
     },
     "execution_count": 47,
     "metadata": {},
     "output_type": "execute_result"
    }
   ],
   "source": [
    "torch.sum(preds==labels)"
   ]
  },
  {
   "cell_type": "code",
   "execution_count": 48,
   "metadata": {},
   "outputs": [],
   "source": [
    "def accuracy(out, labels):\n",
    "    _, preds=torch.max(out, dim=1)\n",
    "    return torch.tensor(torch.sum(preds==labels).item()/len(preds))"
   ]
  },
  {
   "cell_type": "code",
   "execution_count": 49,
   "metadata": {},
   "outputs": [
    {
     "data": {
      "text/plain": [
       "tensor(0.0781)"
      ]
     },
     "execution_count": 49,
     "metadata": {},
     "output_type": "execute_result"
    }
   ],
   "source": [
    "accuracy(out, labels)"
   ]
  },
  {
   "cell_type": "code",
   "execution_count": 51,
   "metadata": {},
   "outputs": [],
   "source": [
    "loss_fn=F.cross_entropy"
   ]
  },
  {
   "cell_type": "code",
   "execution_count": 52,
   "metadata": {},
   "outputs": [
    {
     "name": "stdout",
     "output_type": "stream",
     "text": [
      "tensor(2.2706, grad_fn=<NllLossBackward>)\n"
     ]
    }
   ],
   "source": [
    "loss=loss_fn(out, labels)\n",
    "print(loss)"
   ]
  },
  {
   "cell_type": "code",
   "execution_count": null,
   "metadata": {},
   "outputs": [],
   "source": []
  },
  {
   "cell_type": "code",
   "execution_count": 64,
   "metadata": {},
   "outputs": [],
   "source": [
    "def fit(epochs, lr, model, train_loader, val_loader, opt_fn=torch.optim.SGD):\n",
    "    optimizer=opt_fn(model.parameters(), lr)\n",
    "    hist=[]\n",
    "    \n",
    "    for epoch in range(epochs):\n",
    "        \n",
    "        #train\n",
    "        for batch in train_loader:\n",
    "            loss=model.training_step(batch)\n",
    "            loss.backward()\n",
    "            optimizer.step()\n",
    "            optimizer.zero_grad()\n",
    "        \n",
    "        #validation\n",
    "        res=evaluate(model, val_loader)\n",
    "        model.epoch_end(epoch, res)\n",
    "        hist.append(res)\n",
    "        \n",
    "    return hist"
   ]
  },
  {
   "cell_type": "code",
   "execution_count": 65,
   "metadata": {},
   "outputs": [],
   "source": [
    "def evaluate(model, val_loader):\n",
    "    out=[model.validation_step(batch) for batch in val_loader]\n",
    "    return model.validation_epoch_end(out)"
   ]
  },
  {
   "cell_type": "code",
   "execution_count": 66,
   "metadata": {},
   "outputs": [],
   "source": [
    "class MnistModel(nn.Module):\n",
    "    def __init__(self):\n",
    "        super().__init__()\n",
    "        self.linear=nn.Linear(input_size, class_count)\n",
    "        \n",
    "    def forward(self, xb):\n",
    "        xb=xb.reshape(-1, 784)\n",
    "        out=self.linear(xb)\n",
    "        return out\n",
    "    \n",
    "    def training_step(self, batch):\n",
    "        images, labels=batch\n",
    "        out=self(images)\n",
    "        loss=F.cross_entropy(out, labels)\n",
    "        return loss\n",
    "    \n",
    "    def validation_step(self, batch):\n",
    "        images, labels=batch\n",
    "        out=self(images)\n",
    "        loss = F.cross_entropy(out, labels)\n",
    "        acc = accuracy(out, labels)\n",
    "        return {'val_loss': loss, 'val_acc': acc}\n",
    "    \n",
    "    def validation_epoch_end(self, out):\n",
    "        batch_losses=[x['val_loss'] for x in out]\n",
    "        epoch_loss=torch.stack(batch_losses).mean()\n",
    "        batch_accs=[x['val_acc'] for x in out]\n",
    "        epoch_acc=torch.stack(batch_accs).mean()\n",
    "        return {'val_loss':epoch_loss.item(), 'val_acc':epoch_acc.item()}\n",
    "    \n",
    "    def epoch_end(self, epoch, result):\n",
    "        print(\"Epoch [{}], val_loss={:.4f}, val_acc={:.4f}\".format(epoch, result['val_loss'], result['val_acc']))"
   ]
  },
  {
   "cell_type": "code",
   "execution_count": 67,
   "metadata": {},
   "outputs": [],
   "source": [
    "model=MnistModel()"
   ]
  },
  {
   "cell_type": "code",
   "execution_count": 68,
   "metadata": {},
   "outputs": [
    {
     "data": {
      "text/plain": [
       "{'val_loss': 2.2803595066070557, 'val_acc': 0.1292523741722107}"
      ]
     },
     "execution_count": 68,
     "metadata": {},
     "output_type": "execute_result"
    }
   ],
   "source": [
    "temp_res=evaluate(model, val_loader)\n",
    "temp_res"
   ]
  },
  {
   "cell_type": "code",
   "execution_count": 69,
   "metadata": {},
   "outputs": [],
   "source": [
    "#lets start training -- Tachodril"
   ]
  },
  {
   "cell_type": "code",
   "execution_count": 70,
   "metadata": {},
   "outputs": [
    {
     "name": "stdout",
     "output_type": "stream",
     "text": [
      "Epoch [0], val_loss=1.9250, val_acc=0.6559\n",
      "Epoch [1], val_loss=1.6632, val_acc=0.7496\n",
      "Epoch [2], val_loss=1.4672, val_acc=0.7753\n",
      "Epoch [3], val_loss=1.3189, val_acc=0.7895\n",
      "Epoch [4], val_loss=1.2045, val_acc=0.8001\n"
     ]
    }
   ],
   "source": [
    "history1=fit(5, 0.001, model, train_loader, val_loader)"
   ]
  },
  {
   "cell_type": "code",
   "execution_count": 71,
   "metadata": {},
   "outputs": [
    {
     "name": "stdout",
     "output_type": "stream",
     "text": [
      "Epoch [0], val_loss=1.1144, val_acc=0.8078\n",
      "Epoch [1], val_loss=1.0420, val_acc=0.8156\n",
      "Epoch [2], val_loss=0.9828, val_acc=0.8200\n",
      "Epoch [3], val_loss=0.9334, val_acc=0.8251\n",
      "Epoch [4], val_loss=0.8917, val_acc=0.8296\n"
     ]
    }
   ],
   "source": [
    "history2=fit(5, 0.001, model, train_loader, val_loader)"
   ]
  },
  {
   "cell_type": "code",
   "execution_count": 72,
   "metadata": {},
   "outputs": [
    {
     "name": "stdout",
     "output_type": "stream",
     "text": [
      "Epoch [0], val_loss=0.8559, val_acc=0.8328\n",
      "Epoch [1], val_loss=0.8249, val_acc=0.8362\n",
      "Epoch [2], val_loss=0.7978, val_acc=0.8389\n",
      "Epoch [3], val_loss=0.7739, val_acc=0.8409\n",
      "Epoch [4], val_loss=0.7525, val_acc=0.8429\n"
     ]
    }
   ],
   "source": [
    "history3=fit(5, 0.001, model, train_loader, val_loader)"
   ]
  },
  {
   "cell_type": "code",
   "execution_count": 73,
   "metadata": {},
   "outputs": [
    {
     "name": "stdout",
     "output_type": "stream",
     "text": [
      "Epoch [0], val_loss=0.7334, val_acc=0.8450\n",
      "Epoch [1], val_loss=0.7161, val_acc=0.8467\n",
      "Epoch [2], val_loss=0.7005, val_acc=0.8480\n",
      "Epoch [3], val_loss=0.6862, val_acc=0.8495\n",
      "Epoch [4], val_loss=0.6731, val_acc=0.8500\n"
     ]
    }
   ],
   "source": [
    "history4=fit(5, 0.001, model, train_loader, val_loader)"
   ]
  },
  {
   "cell_type": "code",
   "execution_count": 75,
   "metadata": {},
   "outputs": [
    {
     "data": {
      "image/png": "[encoded data removed]",
      "text/plain": [
       "<Figure size 432x288 with 1 Axes>"
      ]
     },
     "metadata": {
      "needs_background": "light"
     },
     "output_type": "display_data"
    }
   ],
   "source": [
    "history = [temp_res] + history1 + history2 + history3 + history4\n",
    "accuracies = [result['val_acc'] for result in history]\n",
    "plt.plot(accuracies, '-x')\n",
    "plt.xlabel('epoch')\n",
    "plt.ylabel('accuracy')\n",
    "plt.title('Accuracy vs. No. of epochs');"
   ]
  },
  {
   "cell_type": "code",
   "execution_count": 77,
   "metadata": {},
   "outputs": [
    {
     "data": {
      "text/plain": [
       "10000"
      ]
     },
     "execution_count": 77,
     "metadata": {},
     "output_type": "execute_result"
    }
   ],
   "source": [
    "len(test_dataset)"
   ]
  },
  {
   "cell_type": "code",
   "execution_count": 78,
   "metadata": {},
   "outputs": [],
   "source": [
    "test_dataset=MNIST(root='data/', train=False, transform=transforms.ToTensor())"
   ]
  },
  {
   "cell_type": "code",
   "execution_count": 79,
   "metadata": {},
   "outputs": [],
   "source": [
    "def predict(img, model):\n",
    "    xb=img.unsqueeze(0)\n",
    "    yb=model(xb)\n",
    "    _, preds=torch.max(yb, dim=1)\n",
    "    return preds[0].item()"
   ]
  },
  {
   "cell_type": "code",
   "execution_count": 81,
   "metadata": {},
   "outputs": [
    {
     "name": "stdout",
     "output_type": "stream",
     "text": [
      "Label: 7 , Predicted: 7\n"
     ]
    },
    {
     "data": {
      "image/png": "[encoded data removed]",
      "text/plain": [
       "<Figure size 432x288 with 1 Axes>"
      ]
     },
     "metadata": {
      "needs_background": "light"
     },
     "output_type": "display_data"
    }
   ],
   "source": [
    "img, label = test_dataset[0]\n",
    "plt.imshow(img[0], cmap='gray')\n",
    "print('Label:', label, ', Predicted:', predict(img, model))"
   ]
  },
  {
   "cell_type": "code",
   "execution_count": 82,
   "metadata": {},
   "outputs": [
    {
     "name": "stdout",
     "output_type": "stream",
     "text": [
      "Label: 9 , Predicted: 4\n"
     ]
    },
    {
     "data": {
      "image/png": "[encoded data removed]",
      "text/plain": [
       "<Figure size 432x288 with 1 Axes>"
      ]
     },
     "metadata": {
      "needs_background": "light"
     },
     "output_type": "display_data"
    }
   ],
   "source": [
    "img, label = test_dataset[193]\n",
    "plt.imshow(img[0], cmap='gray')\n",
    "print('Label:', label, ', Predicted:', predict(img, model))"
   ]
  },
  {
   "cell_type": "code",
   "execution_count": 83,
   "metadata": {},
   "outputs": [
    {
     "data": {
      "text/plain": [
       "{'val_loss': 0.6383494138717651, 'val_acc': 0.862011730670929}"
      ]
     },
     "execution_count": 83,
     "metadata": {},
     "output_type": "execute_result"
    }
   ],
   "source": [
    "test_loader = DataLoader(test_dataset, batch_size=256)\n",
    "result = evaluate(model, test_loader)\n",
    "result"
   ]
  },
  {
   "cell_type": "code",
   "execution_count": 84,
   "metadata": {},
   "outputs": [],
   "source": [
    "#saving the optimized params"
   ]
  },
  {
   "cell_type": "code",
   "execution_count": 85,
   "metadata": {},
   "outputs": [],
   "source": [
    "torch.save(model.state_dict(), 'mnist-logistic.pth')"
   ]
  },
  {
   "cell_type": "code",
   "execution_count": 87,
   "metadata": {},
   "outputs": [
    {
     "data": {
      "text/plain": [
       "OrderedDict([('linear.weight',\n",
       "              tensor([[ 0.0003, -0.0008,  0.0105,  ..., -0.0105, -0.0260, -0.0097],\n",
       "                      [-0.0228, -0.0017, -0.0249,  ...,  0.0163, -0.0218, -0.0305],\n",
       "                      [-0.0229,  0.0350,  0.0352,  ..., -0.0185, -0.0299,  0.0151],\n",
       "                      ...,\n",
       "                      [-0.0180,  0.0040, -0.0020,  ...,  0.0066, -0.0199,  0.0206],\n",
       "                      [ 0.0356, -0.0184, -0.0064,  ..., -0.0233,  0.0241,  0.0308],\n",
       "                      [ 0.0038, -0.0322,  0.0130,  ..., -0.0206,  0.0326, -0.0145]])),\n",
       "             ('linear.bias',\n",
       "              tensor([-0.0347,  0.1247,  0.0007, -0.0327, -0.0072,  0.0334,  0.0075,  0.0790,\n",
       "                      -0.0774, -0.0066]))])"
      ]
     },
     "execution_count": 87,
     "metadata": {},
     "output_type": "execute_result"
    }
   ],
   "source": [
    "model.state_dict()"
   ]
  },
  {
   "cell_type": "code",
   "execution_count": 88,
   "metadata": {},
   "outputs": [],
   "source": [
    "#now we can use these saved params whenever we want"
   ]
  },
  {
   "cell_type": "code",
   "execution_count": 89,
   "metadata": {},
   "outputs": [],
   "source": [
    "model2=MnistModel()"
   ]
  },
  {
   "cell_type": "code",
   "execution_count": 90,
   "metadata": {},
   "outputs": [
    {
     "data": {
      "text/plain": [
       "OrderedDict([('linear.weight',\n",
       "              tensor([[ 3.0056e-02,  2.0741e-02,  3.5359e-02,  ..., -2.0228e-02,\n",
       "                       -1.9681e-02,  9.8092e-06],\n",
       "                      [ 1.1388e-02, -5.4602e-03, -2.3688e-02,  ...,  2.5086e-02,\n",
       "                        2.5104e-02,  1.8774e-02],\n",
       "                      [-2.1550e-02, -2.4194e-02,  2.8121e-02,  ..., -1.2725e-02,\n",
       "                        3.4927e-02, -2.3121e-03],\n",
       "                      ...,\n",
       "                      [ 3.6482e-03,  3.0359e-02, -3.2806e-02,  ...,  1.4404e-03,\n",
       "                       -3.4127e-02,  1.9138e-02],\n",
       "                      [ 2.7804e-02,  1.1926e-03,  6.9708e-03,  ...,  3.2402e-02,\n",
       "                       -9.1007e-03,  7.6497e-03],\n",
       "                      [-3.2070e-02, -2.3190e-02, -1.9174e-02,  ..., -2.3658e-02,\n",
       "                       -1.2698e-02, -1.7233e-02]])),\n",
       "             ('linear.bias',\n",
       "              tensor([ 0.0012, -0.0236,  0.0321,  0.0282,  0.0134, -0.0005, -0.0322, -0.0307,\n",
       "                      -0.0222,  0.0322]))])"
      ]
     },
     "execution_count": 90,
     "metadata": {},
     "output_type": "execute_result"
    }
   ],
   "source": [
    "model2.state_dict()"
   ]
  },
  {
   "cell_type": "code",
   "execution_count": 91,
   "metadata": {},
   "outputs": [
    {
     "data": {
      "text/plain": [
       "{'val_loss': 2.2857038974761963, 'val_acc': 0.14199218153953552}"
      ]
     },
     "execution_count": 91,
     "metadata": {},
     "output_type": "execute_result"
    }
   ],
   "source": [
    "evaluate(model2, test_loader)"
   ]
  },
  {
   "cell_type": "code",
   "execution_count": 92,
   "metadata": {},
   "outputs": [
    {
     "data": {
      "text/plain": [
       "OrderedDict([('linear.weight',\n",
       "              tensor([[ 0.0003, -0.0008,  0.0105,  ..., -0.0105, -0.0260, -0.0097],\n",
       "                      [-0.0228, -0.0017, -0.0249,  ...,  0.0163, -0.0218, -0.0305],\n",
       "                      [-0.0229,  0.0350,  0.0352,  ..., -0.0185, -0.0299,  0.0151],\n",
       "                      ...,\n",
       "                      [-0.0180,  0.0040, -0.0020,  ...,  0.0066, -0.0199,  0.0206],\n",
       "                      [ 0.0356, -0.0184, -0.0064,  ..., -0.0233,  0.0241,  0.0308],\n",
       "                      [ 0.0038, -0.0322,  0.0130,  ..., -0.0206,  0.0326, -0.0145]])),\n",
       "             ('linear.bias',\n",
       "              tensor([-0.0347,  0.1247,  0.0007, -0.0327, -0.0072,  0.0334,  0.0075,  0.0790,\n",
       "                      -0.0774, -0.0066]))])"
      ]
     },
     "execution_count": 92,
     "metadata": {},
     "output_type": "execute_result"
    }
   ],
   "source": [
    "#now load saved params of prev model to model2\n",
    "model2.load_state_dict(torch.load('mnist-logistic.pth'))\n",
    "model2.state_dict()"
   ]
  },
  {
   "cell_type": "code",
   "execution_count": 93,
   "metadata": {},
   "outputs": [
    {
     "data": {
      "text/plain": [
       "{'val_loss': 0.6383494138717651, 'val_acc': 0.862011730670929}"
      ]
     },
     "execution_count": 93,
     "metadata": {},
     "output_type": "execute_result"
    }
   ],
   "source": [
    "test_loader = DataLoader(test_dataset, batch_size=256)\n",
    "result = evaluate(model2, test_loader)\n",
    "result"
   ]
  },
  {
   "cell_type": "code",
   "execution_count": 95,
   "metadata": {},
   "outputs": [],
   "source": [
    "# this gave the optimized accuracy, as expected\n",
    "# level of quality -- Tachodril"
   ]
  }
 ],
 "metadata": {
  "kernelspec": {
   "display_name": "Python 3",
   "language": "python",
   "name": "python3"
  },
  "language_info": {
   "codemirror_mode": {
    "name": "ipython",
    "version": 3
   },
   "file_extension": ".py",
   "mimetype": "text/x-python",
   "name": "python",
   "nbconvert_exporter": "python",
   "pygments_lexer": "ipython3",
   "version": "3.6.8"
  }
 },
 "nbformat": 4,
 "nbformat_minor": 4
}
